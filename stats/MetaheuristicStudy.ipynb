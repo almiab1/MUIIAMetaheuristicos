{
 "cells": [
  {
   "cell_type": "markdown",
   "id": "41ad1905",
   "metadata": {},
   "source": [
    "# Statistical study of the subset sum problem\n",
    "## Metaheuristic Problem Solving | MUIIA"
   ]
  },
  {
   "cell_type": "markdown",
   "id": "c7bdc161",
   "metadata": {},
   "source": [
    "### Imports\n",
    "---"
   ]
  },
  {
   "cell_type": "code",
   "execution_count": 4,
   "id": "07aba070",
   "metadata": {},
   "outputs": [],
   "source": [
    "import numpy as np\n",
    "import pandas as pd\n",
    "import matplotlib.pyplot as plt\n",
    "import seaborn as sns"
   ]
  },
  {
   "cell_type": "markdown",
   "id": "8cd6b7e4",
   "metadata": {},
   "source": [
    "### READ & PREPROCESS DATAFRAME\n",
    "---"
   ]
  },
  {
   "cell_type": "code",
   "execution_count": 5,
   "metadata": {},
   "outputs": [
    {
     "name": "stdout",
     "output_type": "stream",
     "text": [
      "['./MUIIAMetaheuristicos/ga/ssGA/src/executions/result1.csv', './MUIIAMetaheuristicos/ga/ssGA/src/executions/result2.csv', './MUIIAMetaheuristicos/ga/ssGA/src/executions/result3.csv', './MUIIAMetaheuristicos/ga/ssGA/src/executions/result4.csv', './MUIIAMetaheuristicos/ga/ssGA/src/executions/result5.csv', './MUIIAMetaheuristicos/ga/ssGA/src/executions/result6.csv', './MUIIAMetaheuristicos/ga/ssGA/src/executions/result7.csv', './MUIIAMetaheuristicos/ga/ssGA/src/executions/result8.csv', './MUIIAMetaheuristicos/ga/ssGA/src/executions/result9.csv', './MUIIAMetaheuristicos/ga/ssGA/src/executions/result10.csv', './MUIIAMetaheuristicos/ga/ssGA/src/executions/result11.csv', './MUIIAMetaheuristicos/ga/ssGA/src/executions/result12.csv', './MUIIAMetaheuristicos/ga/ssGA/src/executions/result13.csv', './MUIIAMetaheuristicos/ga/ssGA/src/executions/result14.csv', './MUIIAMetaheuristicos/ga/ssGA/src/executions/result15.csv', './MUIIAMetaheuristicos/ga/ssGA/src/executions/result16.csv', './MUIIAMetaheuristicos/ga/ssGA/src/executions/result17.csv', './MUIIAMetaheuristicos/ga/ssGA/src/executions/result18.csv', './MUIIAMetaheuristicos/ga/ssGA/src/executions/result19.csv', './MUIIAMetaheuristicos/ga/ssGA/src/executions/result20.csv', './MUIIAMetaheuristicos/ga/ssGA/src/executions/result21.csv', './MUIIAMetaheuristicos/ga/ssGA/src/executions/result22.csv', './MUIIAMetaheuristicos/ga/ssGA/src/executions/result23.csv', './MUIIAMetaheuristicos/ga/ssGA/src/executions/result24.csv', './MUIIAMetaheuristicos/ga/ssGA/src/executions/result25.csv', './MUIIAMetaheuristicos/ga/ssGA/src/executions/result26.csv', './MUIIAMetaheuristicos/ga/ssGA/src/executions/result27.csv', './MUIIAMetaheuristicos/ga/ssGA/src/executions/result28.csv', './MUIIAMetaheuristicos/ga/ssGA/src/executions/result29.csv', './MUIIAMetaheuristicos/ga/ssGA/src/executions/result30.csv']\n"
     ]
    }
   ],
   "source": [
    "strs = [f'./MUIIAMetaheuristicos/ga/ssGA/src/executions/result{x+1}.csv' for x in range(30)]\n",
    "\n",
    "print(strs)"
   ]
  },
  {
   "cell_type": "code",
   "execution_count": 12,
   "id": "ca592074",
   "metadata": {},
   "outputs": [
    {
     "data": {
      "text/html": [
       "<div>\n",
       "<style scoped>\n",
       "    .dataframe tbody tr th:only-of-type {\n",
       "        vertical-align: middle;\n",
       "    }\n",
       "\n",
       "    .dataframe tbody tr th {\n",
       "        vertical-align: top;\n",
       "    }\n",
       "\n",
       "    .dataframe thead th {\n",
       "        text-align: right;\n",
       "    }\n",
       "</style>\n",
       "<table border=\"1\" class=\"dataframe\">\n",
       "  <thead>\n",
       "    <tr style=\"text-align: right;\">\n",
       "      <th></th>\n",
       "      <th>exec</th>\n",
       "      <th>step</th>\n",
       "      <th>bestf</th>\n",
       "      <th>worstf</th>\n",
       "      <th>avgf</th>\n",
       "    </tr>\n",
       "  </thead>\n",
       "  <tbody>\n",
       "    <tr>\n",
       "      <th>0</th>\n",
       "      <td>1</td>\n",
       "      <td>0</td>\n",
       "      <td>0.986243</td>\n",
       "      <td>0.645900</td>\n",
       "      <td>0.056086</td>\n",
       "    </tr>\n",
       "    <tr>\n",
       "      <th>1</th>\n",
       "      <td>1</td>\n",
       "      <td>1</td>\n",
       "      <td>0.986243</td>\n",
       "      <td>0.698403</td>\n",
       "      <td>0.058911</td>\n",
       "    </tr>\n",
       "    <tr>\n",
       "      <th>2</th>\n",
       "      <td>1</td>\n",
       "      <td>2</td>\n",
       "      <td>0.986243</td>\n",
       "      <td>0.699321</td>\n",
       "      <td>0.060743</td>\n",
       "    </tr>\n",
       "    <tr>\n",
       "      <th>3</th>\n",
       "      <td>1</td>\n",
       "      <td>3</td>\n",
       "      <td>0.986243</td>\n",
       "      <td>0.699598</td>\n",
       "      <td>0.062120</td>\n",
       "    </tr>\n",
       "    <tr>\n",
       "      <th>4</th>\n",
       "      <td>1</td>\n",
       "      <td>4</td>\n",
       "      <td>0.986243</td>\n",
       "      <td>0.701740</td>\n",
       "      <td>0.064372</td>\n",
       "    </tr>\n",
       "  </tbody>\n",
       "</table>\n",
       "</div>"
      ],
      "text/plain": [
       "   exec  step     bestf    worstf      avgf\n",
       "0     1     0  0.986243  0.645900  0.056086\n",
       "1     1     1  0.986243  0.698403  0.058911\n",
       "2     1     2  0.986243  0.699321  0.060743\n",
       "3     1     3  0.986243  0.699598  0.062120\n",
       "4     1     4  0.986243  0.701740  0.064372"
      ]
     },
     "execution_count": 12,
     "metadata": {},
     "output_type": "execute_result"
    }
   ],
   "source": [
    "\"\"\" READ & PREPROCESS DATAFRAME \"\"\"\n",
    "\n",
    "# df = pd.read_csv('./MUIIAMetaheuristicos/ga/ssGA/src/executions/result1.csv')\n",
    "df = pd.read_csv('./MUIIAMetaheuristicos/ga/ssGA/src/result.csv')\n",
    "\n",
    "# merging two csv files\n",
    "dff = pd.concat(map(pd.read_csv, strs), ignore_index=True)\n",
    "\n",
    "def minmax_norm(df, column):\n",
    "    return (df[column] - df[column].min()) / ( df[column].max() - df[column].min())\n",
    "\n",
    "dff[\"bestf\"] = minmax_norm(dff,\"bestf\")\n",
    "dff[\"worstf\"] = minmax_norm(dff,\"worstf\")\n",
    "dff[\"avgf\"] = minmax_norm(dff,\"avgf\")\n",
    "\n",
    "dff.head()"
   ]
  },
  {
   "cell_type": "markdown",
   "id": "2db55867",
   "metadata": {},
   "source": [
    "### PLOTS\n",
    "---"
   ]
  },
  {
   "cell_type": "code",
   "execution_count": 18,
   "id": "2e433ff2",
   "metadata": {},
   "outputs": [
    {
     "data": {
      "text/plain": [
       "<AxesSubplot:xlabel='step', ylabel='bestf'>"
      ]
     },
     "execution_count": 18,
     "metadata": {},
     "output_type": "execute_result"
    },
    {
     "data": {
      "image/png": "[encoded data removed]",
      "text/plain": [
       "<Figure size 432x288 with 1 Axes>"
      ]
     },
     "metadata": {},
     "output_type": "display_data"
    }
   ],
   "source": [
    "sns.set_theme(style=\"darkgrid\")\n",
    "\n",
    "n = 10\n",
    "\n",
    "dfh = dff[dff[\"exec\"] < n]\n",
    "\n",
    "# Plot the responses for different events and regions\n",
    "sns.lineplot(x=\"step\", y=\"bestf\", hue=\"exec\",data=dfh)"
   ]
  },
  {
   "cell_type": "code",
   "execution_count": 35,
   "id": "e75e6dd9",
   "metadata": {},
   "outputs": [
    {
     "data": {
      "text/plain": [
       "<AxesSubplot:xlabel='bestf', ylabel='exec'>"
      ]
     },
     "execution_count": 35,
     "metadata": {},
     "output_type": "execute_result"
    },
    {
     "data": {
      "image/png": "[encoded data removed]",
      "text/plain": [
       "<Figure size 432x288 with 1 Axes>"
      ]
     },
     "metadata": {},
     "output_type": "display_data"
    }
   ],
   "source": [
    "sns.boxplot(data=dfFull,x=\"bestf\", y=\"exec\")\n",
    "sns.stripplot(data=dfFull,x=\"bestf\", y=\"exec\",size=4, color=\".3\", linewidth=0)"
   ]
  }
 ],
 "metadata": {
  "kernelspec": {
   "display_name": "Python 3 (ipykernel)",
   "language": "python",
   "name": "python3"
  },
  "language_info": {
   "codemirror_mode": {
    "name": "ipython",
    "version": 3
   },
   "file_extension": ".py",
   "mimetype": "text/x-python",
   "name": "python",
   "nbconvert_exporter": "python",
   "pygments_lexer": "ipython3",
   "version": "3.9.7"
  },
  "vscode": {
   "interpreter": {
    "hash": "fe5f59c17a4d8d8be8042f0136e3ce9e3c0a8ab4c629de71e8e97f9019d950bf"
   }
  }
 },
 "nbformat": 4,
 "nbformat_minor": 5
}
