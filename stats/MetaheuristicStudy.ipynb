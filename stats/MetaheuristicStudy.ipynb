{
 "cells": [
  {
   "cell_type": "markdown",
   "id": "41ad1905",
   "metadata": {},
   "source": [
    "# Statistical study of the subset sum problem\n",
    "## Metaheuristic Problem Solving | MUIIA"
   ]
  },
  {
   "cell_type": "markdown",
   "id": "c7bdc161",
   "metadata": {},
   "source": [
    "### Imports\n",
    "---"
   ]
  },
  {
   "cell_type": "code",
   "execution_count": 253,
   "id": "07aba070",
   "metadata": {},
   "outputs": [],
   "source": [
    "import numpy as np\n",
    "import pandas as pd\n",
    "import matplotlib as mpl\n",
    "import matplotlib.pyplot as plt\n",
    "import seaborn as sns\n",
    "from sklearn.preprocessing import MinMaxScaler"
   ]
  },
  {
   "cell_type": "markdown",
   "id": "8cd6b7e4",
   "metadata": {},
   "source": [
    "### READ & PREPROCESS DATAFRAME\n",
    "---"
   ]
  },
  {
   "cell_type": "code",
   "execution_count": 254,
   "metadata": {},
   "outputs": [],
   "source": [
    "s = 100\n",
    "case = 2\n",
    "prob_type = \"high\" # high | medium | low\n",
    "\n",
    "pathFiles = f\"./../src/case{case}/z{s}/{prob_type}prob\""
   ]
  },
  {
   "cell_type": "code",
   "execution_count": 255,
   "id": "56d823e1",
   "metadata": {},
   "outputs": [],
   "source": [
    "def read_csv_result(path):\n",
    "    return pd.read_csv(f'{path}/result.csv')\n",
    "\n",
    "def read_and_combine_exec_csv(pathFolder, numberFiles):\n",
    "    strs = [f'{pathFolder}/result{x+1}.csv' for x in range(numberFiles)]\n",
    "    return pd.concat(map(pd.read_csv, strs), ignore_index=True)"
   ]
  },
  {
   "cell_type": "code",
   "execution_count": 256,
   "id": "ca592074",
   "metadata": {},
   "outputs": [],
   "source": [
    "\"\"\" READ & PREPROCESS DATAFRAME \"\"\"\n",
    "# reading csv file\n",
    "df = read_csv_result(pathFiles)\n",
    "\n",
    "# merging two csv files\n",
    "dff = read_and_combine_exec_csv(pathFiles+\"/executions\", 30)\n",
    "\n"
   ]
  },
  {
   "cell_type": "code",
   "execution_count": 257,
   "id": "8afad79e",
   "metadata": {},
   "outputs": [],
   "source": [
    "\"\"\" VARIABLES GA \"\"\"\n",
    "C = 0\n",
    "\n",
    "if (s == 100): \n",
    "    C = 3677.0\n",
    "if (s == 1000):\n",
    "    C = 366097.0\n",
    "if (s == 10000):\n",
    "    C = 3.7957325E7\n",
    "\n",
    "# C = C_z10000"
   ]
  },
  {
   "cell_type": "code",
   "execution_count": 258,
   "metadata": {},
   "outputs": [],
   "source": [
    "\"\"\" SET OPTIMAL COLUMN \"\"\"\n",
    "df[\"optimal\"] = np.where(df[\"bestf\"] == C, 1, 0)"
   ]
  },
  {
   "cell_type": "code",
   "execution_count": 259,
   "id": "7b4f115c",
   "metadata": {},
   "outputs": [],
   "source": [
    "\"\"\" NORMALIZE DF \"\"\"\n",
    "max_bound = C\n",
    "min_bound = min([df['bestf'].min(),df['worstf'].min(),df['avgf'].min()])\n",
    "\n",
    "# Method 1\n",
    "def normalize(df, column, min, max):\n",
    "    # min = df[column].min()\n",
    "    # max = C\n",
    "    return ((df[column] - min) / (max - min))\n",
    "\n",
    "# normalice df\n",
    "df[\"bestf\"] = normalize(df,\"bestf\",min_bound, max_bound)\n",
    "df[\"worstf\"] = normalize(df,\"worstf\",min_bound, max_bound)\n",
    "df[\"avgf\"] = normalize(df,\"avgf\",min_bound, max_bound)\n",
    "\n",
    "# Method 2\n",
    "\n",
    "# columns_to_normalize = ['bestf', 'worstf', 'avgf']\n",
    "# df[columns_to_normalize] = MinMaxScaler(feature_range=(0, 1)).fit_transform(df[columns_to_normalize])"
   ]
  },
  {
   "cell_type": "code",
   "execution_count": 260,
   "id": "adec9276",
   "metadata": {},
   "outputs": [],
   "source": [
    "\"\"\" NORMALIZE DFF \"\"\"\n",
    "max_bound = C\n",
    "min_bound = min([dff['bestf'].min(),dff['worstf'].min(),dff['avgf'].min()])\n",
    "\n",
    "# normalice dff\n",
    "# dff[columns_to_normalize] = MinMaxScaler(feature_range=(0, 1)).fit_transform(dff[columns_to_normalize]\n",
    "dff[\"bestf\"] = normalize(dff,\"bestf\",min_bound, max_bound)\n",
    "dff[\"worstf\"] = normalize(dff,\"worstf\",min_bound, max_bound)\n",
    "dff[\"avgf\"] = normalize(dff,\"avgf\",min_bound, max_bound)"
   ]
  },
  {
   "cell_type": "code",
   "execution_count": 261,
   "id": "4b4e05f3",
   "metadata": {},
   "outputs": [],
   "source": [
    "# Get index of best fitness executions\n",
    "optimalIndx = df[\"optimal\"] == 1\n",
    "\n",
    "# Get optimal and not optimal dataset of mean dataset\n",
    "optimalRes = df[optimalIndx]\n",
    "notOptimalRes = df[~optimalIndx]\n",
    "\n",
    "# Get optimal and not optimal dataset of full dataset\n",
    "optimalResFull = dff[dff[\"exec\"].isin(optimalRes[\"exec\"])]\n",
    "notOptimalResFull = dff[dff[\"exec\"].isin(notOptimalRes[\"exec\"])]"
   ]
  },
  {
   "cell_type": "code",
   "execution_count": 262,
   "id": "5ba26803",
   "metadata": {},
   "outputs": [
    {
     "name": "stdout",
     "output_type": "stream",
     "text": [
      "\n",
      "Avg f mean      - 0.9381\n",
      "Avg worst mean  - 0.711\n",
      "Optimal n       - 2\n",
      "Duration mean   - 35233.4\n",
      "\n"
     ]
    }
   ],
   "source": [
    "duration_mean = round(df[\"duration\"].mean(),2)\n",
    "optimal_n = round(df[df[\"optimal\"] == 1][\"exec\"].count(),4)\n",
    "avg_f_mean = round(dff[\"avgf\"].mean(),4)\n",
    "avg_w_mean = round(dff[\"worstf\"].mean(),4)\n",
    "\n",
    "print(\"\"\"\n",
    "Avg f mean      - {}\n",
    "Avg worst mean  - {}\n",
    "Optimal n       - {}\n",
    "Duration mean   - {}\n",
    "\"\"\".format(avg_f_mean, avg_w_mean,optimal_n,duration_mean))"
   ]
  },
  {
   "cell_type": "code",
   "execution_count": 263,
   "id": "12edae98",
   "metadata": {},
   "outputs": [
    {
     "data": {
      "text/html": [
       "<div>\n",
       "<style scoped>\n",
       "    .dataframe tbody tr th:only-of-type {\n",
       "        vertical-align: middle;\n",
       "    }\n",
       "\n",
       "    .dataframe tbody tr th {\n",
       "        vertical-align: top;\n",
       "    }\n",
       "\n",
       "    .dataframe thead th {\n",
       "        text-align: right;\n",
       "    }\n",
       "</style>\n",
       "<table border=\"1\" class=\"dataframe\">\n",
       "  <thead>\n",
       "    <tr style=\"text-align: right;\">\n",
       "      <th></th>\n",
       "      <th>exec</th>\n",
       "      <th>bestf</th>\n",
       "      <th>worstf</th>\n",
       "      <th>avgf</th>\n",
       "      <th>endstep</th>\n",
       "      <th>duration</th>\n",
       "      <th>optimal</th>\n",
       "    </tr>\n",
       "  </thead>\n",
       "  <tbody>\n",
       "    <tr>\n",
       "      <th>count</th>\n",
       "      <td>30.000000</td>\n",
       "      <td>30.000000</td>\n",
       "      <td>30.000000</td>\n",
       "      <td>30.000000</td>\n",
       "      <td>30.000000</td>\n",
       "      <td>30.000000</td>\n",
       "      <td>30.000000</td>\n",
       "    </tr>\n",
       "    <tr>\n",
       "      <th>mean</th>\n",
       "      <td>15.500000</td>\n",
       "      <td>0.999994</td>\n",
       "      <td>0.757284</td>\n",
       "      <td>0.958458</td>\n",
       "      <td>57732.700000</td>\n",
       "      <td>35233.400000</td>\n",
       "      <td>0.066667</td>\n",
       "    </tr>\n",
       "    <tr>\n",
       "      <th>std</th>\n",
       "      <td>8.803408</td>\n",
       "      <td>0.000006</td>\n",
       "      <td>0.260583</td>\n",
       "      <td>0.049271</td>\n",
       "      <td>9595.977825</td>\n",
       "      <td>6761.904305</td>\n",
       "      <td>0.253708</td>\n",
       "    </tr>\n",
       "    <tr>\n",
       "      <th>min</th>\n",
       "      <td>1.000000</td>\n",
       "      <td>0.999971</td>\n",
       "      <td>0.000000</td>\n",
       "      <td>0.697739</td>\n",
       "      <td>10001.000000</td>\n",
       "      <td>2034.000000</td>\n",
       "      <td>0.000000</td>\n",
       "    </tr>\n",
       "    <tr>\n",
       "      <th>25%</th>\n",
       "      <td>8.250000</td>\n",
       "      <td>0.999992</td>\n",
       "      <td>0.749888</td>\n",
       "      <td>0.967557</td>\n",
       "      <td>60000.000000</td>\n",
       "      <td>36316.000000</td>\n",
       "      <td>0.000000</td>\n",
       "    </tr>\n",
       "    <tr>\n",
       "      <th>50%</th>\n",
       "      <td>15.500000</td>\n",
       "      <td>0.999996</td>\n",
       "      <td>0.823930</td>\n",
       "      <td>0.967768</td>\n",
       "      <td>60000.000000</td>\n",
       "      <td>36503.500000</td>\n",
       "      <td>0.000000</td>\n",
       "    </tr>\n",
       "    <tr>\n",
       "      <th>75%</th>\n",
       "      <td>22.750000</td>\n",
       "      <td>0.999998</td>\n",
       "      <td>0.899043</td>\n",
       "      <td>0.967849</td>\n",
       "      <td>60000.000000</td>\n",
       "      <td>36856.000000</td>\n",
       "      <td>0.000000</td>\n",
       "    </tr>\n",
       "    <tr>\n",
       "      <th>max</th>\n",
       "      <td>30.000000</td>\n",
       "      <td>1.000000</td>\n",
       "      <td>0.940826</td>\n",
       "      <td>0.968241</td>\n",
       "      <td>60000.000000</td>\n",
       "      <td>40238.000000</td>\n",
       "      <td>1.000000</td>\n",
       "    </tr>\n",
       "  </tbody>\n",
       "</table>\n",
       "</div>"
      ],
      "text/plain": [
       "            exec      bestf     worstf       avgf       endstep      duration  \\\n",
       "count  30.000000  30.000000  30.000000  30.000000     30.000000     30.000000   \n",
       "mean   15.500000   0.999994   0.757284   0.958458  57732.700000  35233.400000   \n",
       "std     8.803408   0.000006   0.260583   0.049271   9595.977825   6761.904305   \n",
       "min     1.000000   0.999971   0.000000   0.697739  10001.000000   2034.000000   \n",
       "25%     8.250000   0.999992   0.749888   0.967557  60000.000000  36316.000000   \n",
       "50%    15.500000   0.999996   0.823930   0.967768  60000.000000  36503.500000   \n",
       "75%    22.750000   0.999998   0.899043   0.967849  60000.000000  36856.000000   \n",
       "max    30.000000   1.000000   0.940826   0.968241  60000.000000  40238.000000   \n",
       "\n",
       "         optimal  \n",
       "count  30.000000  \n",
       "mean    0.066667  \n",
       "std     0.253708  \n",
       "min     0.000000  \n",
       "25%     0.000000  \n",
       "50%     0.000000  \n",
       "75%     0.000000  \n",
       "max     1.000000  "
      ]
     },
     "execution_count": 263,
     "metadata": {},
     "output_type": "execute_result"
    }
   ],
   "source": [
    "df.describe()"
   ]
  },
  {
   "cell_type": "markdown",
   "id": "2db55867",
   "metadata": {},
   "source": [
    "### PLOTS\n",
    "---"
   ]
  },
  {
   "attachments": {},
   "cell_type": "markdown",
   "id": "7c306855",
   "metadata": {},
   "source": [
    "#### BAR PLOTS"
   ]
  },
  {
   "cell_type": "code",
   "execution_count": 264,
   "metadata": {},
   "outputs": [],
   "source": [
    "# df.iloc[1:5,:].head()"
   ]
  },
  {
   "cell_type": "code",
   "execution_count": 265,
   "id": "300e62a9",
   "metadata": {},
   "outputs": [],
   "source": [
    "# sns.set_theme(style=\"darkgrid\")\n",
    "\n",
    "# f, ax = plt.subplots(figsize=(15, 5))\n",
    "# sns.despine(f)\n",
    "\n",
    "# sns.barplot(x=\"exec\", y=\"bestf\",data=df, hue=\"optimal\")\n",
    "\n",
    "# # Add titles to the plot\n",
    "# plt.title(\"Comparison of Best Fitness\")\n",
    "# plt.xlabel(\"Execution\")\n",
    "# plt.ylabel(\"Best Fitness\")\n",
    "# plt.legend()\n",
    "\n",
    "# # Show plot\n",
    "# plt.show()"
   ]
  },
  {
   "cell_type": "code",
   "execution_count": 266,
   "id": "2e433ff2",
   "metadata": {},
   "outputs": [],
   "source": [
    "# sns.set_theme(style=\"darkgrid\")\n",
    "\n",
    "# f, ax = plt.subplots(figsize=(15, 5))\n",
    "# sns.despine(f)\n",
    "\n",
    "# sns.barplot(x=\"exec\", y=\"avgf\",data=df, hue=\"optimal\")\n",
    "\n",
    "# # Add titles to the plot\n",
    "# plt.title(\"Comparison of Average Fitness\")\n",
    "# plt.xlabel(\"Execution\")\n",
    "# plt.ylabel(\"Average Fitness\")\n",
    "# plt.legend()\n",
    "\n",
    "# # Show plot\n",
    "# plt.show()"
   ]
  },
  {
   "cell_type": "code",
   "execution_count": 267,
   "id": "c45985f6",
   "metadata": {},
   "outputs": [],
   "source": [
    "# sns.set_theme(style=\"darkgrid\")\n",
    "\n",
    "# f, ax = plt.subplots(figsize=(15, 5))\n",
    "# sns.despine(f)\n",
    "\n",
    "# sns.barplot(x=\"exec\", y=\"worstf\",data=df, hue=\"optimal\")\n",
    "\n",
    "# # Add titles to the plot\n",
    "# plt.title(\"Comparison of Worst Fitness\")\n",
    "# plt.xlabel(\"Execution\")\n",
    "# plt.ylabel(\"Worst Fitness\")\n",
    "# plt.legend()\n",
    "\n",
    "# # Show plot\n",
    "# plt.show()"
   ]
  },
  {
   "attachments": {},
   "cell_type": "markdown",
   "id": "5fcdcdde",
   "metadata": {},
   "source": [
    "#### HIST PLOTS"
   ]
  },
  {
   "cell_type": "code",
   "execution_count": 268,
   "id": "6fd245cc",
   "metadata": {},
   "outputs": [],
   "source": [
    "# f, ax = plt.subplots(figsize=(20, 10))\n",
    "# sns.despine(f)\n",
    "\n",
    "# # Draw a nested boxplot to show bills by day and time\n",
    "# sns.boxplot(x=\"exec\", y=\"worstf\", data=dff)\n",
    "# sns.despine(offset=10, trim=True)"
   ]
  },
  {
   "cell_type": "code",
   "execution_count": 269,
   "metadata": {},
   "outputs": [],
   "source": [
    "# f, ax = plt.subplots(figsize=(20, 10))\n",
    "# sns.despine(f)\n",
    "\n",
    "# # Draw a nested boxplot to show bills by day and time\n",
    "# sns.boxplot(x=\"exec\", y=\"avgf\", data=dff)\n",
    "# sns.despine(offset=10)"
   ]
  },
  {
   "cell_type": "code",
   "execution_count": 270,
   "id": "0efa4c22",
   "metadata": {},
   "outputs": [],
   "source": [
    "# f, ax = plt.subplots(figsize=(20, 10))\n",
    "# sns.despine(f)\n",
    "\n",
    "# # Draw a nested boxplot to show bills by day and time\n",
    "# sns.lineplot(x=\"step\", y=\"bestf\", data=dff, hue=\"exec\")\n",
    "# sns.despine(offset=10)"
   ]
  }
 ],
 "metadata": {
  "kernelspec": {
   "display_name": "base",
   "language": "python",
   "name": "python3"
  },
  "language_info": {
   "codemirror_mode": {
    "name": "ipython",
    "version": 3
   },
   "file_extension": ".py",
   "mimetype": "text/x-python",
   "name": "python",
   "nbconvert_exporter": "python",
   "pygments_lexer": "ipython3",
   "version": "3.9.7"
  },
  "vscode": {
   "interpreter": {
    "hash": "fe5f59c17a4d8d8be8042f0136e3ce9e3c0a8ab4c629de71e8e97f9019d950bf"
   }
  }
 },
 "nbformat": 4,
 "nbformat_minor": 5
}
